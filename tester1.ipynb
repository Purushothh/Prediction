{
 "cells": [
  {
   "cell_type": "code",
   "execution_count": 15,
   "metadata": {},
   "outputs": [],
   "source": [
    "# print('f') \n",
    "\n",
    "# print('612b8922bcf15cc8ef0f6328185d4835fa7d5b96')"
   ]
  },
  {
   "cell_type": "code",
   "execution_count": 16,
   "metadata": {
    "scrolled": true
   },
   "outputs": [],
   "source": [
    "import pandas_datareader as pdr\n"
   ]
  },
  {
   "cell_type": "code",
   "execution_count": 17,
   "metadata": {},
   "outputs": [],
   "source": [
    "key = '612b8922bcf15cc8ef0f6328185d4835fa7d5b96'\n",
    "df = pdr.get_data_tiingo('AAPL',api_key=key)\n",
    "\n"
   ]
  },
  {
   "cell_type": "code",
   "execution_count": 18,
   "metadata": {},
   "outputs": [],
   "source": [
    "df.to_csv('AAPL.csv')\n",
    "import pandas as pd"
   ]
  },
  {
   "cell_type": "code",
   "execution_count": 22,
   "metadata": {},
   "outputs": [
    {
     "data": {
      "text/html": [
       "<div>\n",
       "<style scoped>\n",
       "    .dataframe tbody tr th:only-of-type {\n",
       "        vertical-align: middle;\n",
       "    }\n",
       "\n",
       "    .dataframe tbody tr th {\n",
       "        vertical-align: top;\n",
       "    }\n",
       "\n",
       "    .dataframe thead th {\n",
       "        text-align: right;\n",
       "    }\n",
       "</style>\n",
       "<table border=\"1\" class=\"dataframe\">\n",
       "  <thead>\n",
       "    <tr style=\"text-align: right;\">\n",
       "      <th></th>\n",
       "      <th>symbol</th>\n",
       "      <th>date</th>\n",
       "      <th>close</th>\n",
       "      <th>high</th>\n",
       "      <th>low</th>\n",
       "      <th>open</th>\n",
       "      <th>volume</th>\n",
       "      <th>adjClose</th>\n",
       "      <th>adjHigh</th>\n",
       "      <th>adjLow</th>\n",
       "      <th>adjOpen</th>\n",
       "      <th>adjVolume</th>\n",
       "      <th>divCash</th>\n",
       "      <th>splitFactor</th>\n",
       "    </tr>\n",
       "  </thead>\n",
       "  <tbody>\n",
       "    <tr>\n",
       "      <th>0</th>\n",
       "      <td>aapl</td>\n",
       "      <td>2016-02-16 00:00:00+00:00</td>\n",
       "      <td>96.64</td>\n",
       "      <td>96.8500</td>\n",
       "      <td>94.610</td>\n",
       "      <td>95.02</td>\n",
       "      <td>49057916</td>\n",
       "      <td>22.467518</td>\n",
       "      <td>22.516340</td>\n",
       "      <td>21.995570</td>\n",
       "      <td>22.090890</td>\n",
       "      <td>196231664</td>\n",
       "      <td>0.0</td>\n",
       "      <td>1.0</td>\n",
       "    </tr>\n",
       "    <tr>\n",
       "      <th>1</th>\n",
       "      <td>aapl</td>\n",
       "      <td>2016-02-17 00:00:00+00:00</td>\n",
       "      <td>98.12</td>\n",
       "      <td>98.2100</td>\n",
       "      <td>96.150</td>\n",
       "      <td>96.67</td>\n",
       "      <td>44863243</td>\n",
       "      <td>22.811599</td>\n",
       "      <td>22.832522</td>\n",
       "      <td>22.353600</td>\n",
       "      <td>22.474493</td>\n",
       "      <td>179452972</td>\n",
       "      <td>0.0</td>\n",
       "      <td>1.0</td>\n",
       "    </tr>\n",
       "    <tr>\n",
       "      <th>2</th>\n",
       "      <td>aapl</td>\n",
       "      <td>2016-02-18 00:00:00+00:00</td>\n",
       "      <td>96.26</td>\n",
       "      <td>98.8900</td>\n",
       "      <td>96.091</td>\n",
       "      <td>98.84</td>\n",
       "      <td>39020983</td>\n",
       "      <td>22.379173</td>\n",
       "      <td>22.990613</td>\n",
       "      <td>22.339883</td>\n",
       "      <td>22.978989</td>\n",
       "      <td>156083932</td>\n",
       "      <td>0.0</td>\n",
       "      <td>1.0</td>\n",
       "    </tr>\n",
       "    <tr>\n",
       "      <th>3</th>\n",
       "      <td>aapl</td>\n",
       "      <td>2016-02-19 00:00:00+00:00</td>\n",
       "      <td>96.04</td>\n",
       "      <td>96.7599</td>\n",
       "      <td>95.800</td>\n",
       "      <td>96.00</td>\n",
       "      <td>35374173</td>\n",
       "      <td>22.328026</td>\n",
       "      <td>22.495393</td>\n",
       "      <td>22.272229</td>\n",
       "      <td>22.318727</td>\n",
       "      <td>141496692</td>\n",
       "      <td>0.0</td>\n",
       "      <td>1.0</td>\n",
       "    </tr>\n",
       "    <tr>\n",
       "      <th>4</th>\n",
       "      <td>aapl</td>\n",
       "      <td>2016-02-22 00:00:00+00:00</td>\n",
       "      <td>96.88</td>\n",
       "      <td>96.9000</td>\n",
       "      <td>95.920</td>\n",
       "      <td>96.31</td>\n",
       "      <td>34280758</td>\n",
       "      <td>22.523315</td>\n",
       "      <td>22.527965</td>\n",
       "      <td>22.300128</td>\n",
       "      <td>22.390798</td>\n",
       "      <td>137123032</td>\n",
       "      <td>0.0</td>\n",
       "      <td>1.0</td>\n",
       "    </tr>\n",
       "  </tbody>\n",
       "</table>\n",
       "</div>"
      ],
      "text/plain": [
       "  symbol                       date  close     high     low   open    volume  \\\n",
       "0   aapl  2016-02-16 00:00:00+00:00  96.64  96.8500  94.610  95.02  49057916   \n",
       "1   aapl  2016-02-17 00:00:00+00:00  98.12  98.2100  96.150  96.67  44863243   \n",
       "2   aapl  2016-02-18 00:00:00+00:00  96.26  98.8900  96.091  98.84  39020983   \n",
       "3   aapl  2016-02-19 00:00:00+00:00  96.04  96.7599  95.800  96.00  35374173   \n",
       "4   aapl  2016-02-22 00:00:00+00:00  96.88  96.9000  95.920  96.31  34280758   \n",
       "\n",
       "    adjClose    adjHigh     adjLow    adjOpen  adjVolume  divCash  splitFactor  \n",
       "0  22.467518  22.516340  21.995570  22.090890  196231664      0.0          1.0  \n",
       "1  22.811599  22.832522  22.353600  22.474493  179452972      0.0          1.0  \n",
       "2  22.379173  22.990613  22.339883  22.978989  156083932      0.0          1.0  \n",
       "3  22.328026  22.495393  22.272229  22.318727  141496692      0.0          1.0  \n",
       "4  22.523315  22.527965  22.300128  22.390798  137123032      0.0          1.0  "
      ]
     },
     "execution_count": 22,
     "metadata": {},
     "output_type": "execute_result"
    }
   ],
   "source": [
    "df=pd.read_csv('AAPL.csv')\n",
    "df.head()"
   ]
  },
  {
   "cell_type": "code",
   "execution_count": 20,
   "metadata": {},
   "outputs": [],
   "source": [
    "df1=df.reset_index()['close']"
   ]
  },
  {
   "cell_type": "code",
   "execution_count": 27,
   "metadata": {},
   "outputs": [
    {
     "data": {
      "text/plain": [
       "128     109.22\n",
       "129     109.08\n",
       "130     109.36\n",
       "131     108.51\n",
       "132     108.85\n",
       "         ...  \n",
       "1254    136.91\n",
       "1255    136.01\n",
       "1256    135.39\n",
       "1257    135.13\n",
       "1258    135.37\n",
       "Name: close, Length: 1131, dtype: float64"
      ]
     },
     "execution_count": 27,
     "metadata": {},
     "output_type": "execute_result"
    }
   ],
   "source": [
    "df2[128:]"
   ]
  },
  {
   "cell_type": "code",
   "execution_count": null,
   "metadata": {},
   "outputs": [],
   "source": []
  },
  {
   "cell_type": "code",
   "execution_count": null,
   "metadata": {},
   "outputs": [],
   "source": []
  },
  {
   "cell_type": "code",
   "execution_count": null,
   "metadata": {},
   "outputs": [],
   "source": []
  }
 ],
 "metadata": {
  "kernelspec": {
   "display_name": "Python 3",
   "language": "python",
   "name": "python3"
  },
  "language_info": {
   "codemirror_mode": {
    "name": "ipython",
    "version": 3
   },
   "file_extension": ".py",
   "mimetype": "text/x-python",
   "name": "python",
   "nbconvert_exporter": "python",
   "pygments_lexer": "ipython3",
   "version": "3.7.6"
  }
 },
 "nbformat": 4,
 "nbformat_minor": 4
}
